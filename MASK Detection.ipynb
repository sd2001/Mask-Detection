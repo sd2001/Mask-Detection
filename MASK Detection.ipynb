{
  "nbformat": 4,
  "nbformat_minor": 0,
  "metadata": {
    "colab": {
      "name": "MASK2ipynb",
      "provenance": [],
      "collapsed_sections": []
    },
    "kernelspec": {
      "name": "python3",
      "display_name": "Python 3"
    },
    "accelerator": "GPU"
  },
  "cells": [
    {
      "cell_type": "code",
      "metadata": {
        "id": "7iPvmOdLLeju",
        "colab_type": "code",
        "outputId": "a83a3c63-a48e-4a8a-ccae-5c94a2ccf0fe",
        "colab": {
          "base_uri": "https://localhost:8080/",
          "height": 34
        }
      },
      "source": [
        "import cv2                       #importing dependencies\n",
        "import os\n",
        "from google.colab import drive\n",
        "drive.mount('/content/gdrive')   #mounting google drive"
      ],
      "execution_count": 21,
      "outputs": [
        {
          "output_type": "stream",
          "text": [
            "Mounted at /content/gdrive\n"
          ],
          "name": "stdout"
        }
      ]
    },
    {
      "cell_type": "markdown",
      "metadata": {
        "id": "2_EbiB79fsdj",
        "colab_type": "text"
      },
      "source": [
        "**PROCESSING OUR DATA**\n"
      ]
    },
    {
      "cell_type": "code",
      "metadata": {
        "id": "98PnQ9W6Ln5N",
        "colab_type": "code",
        "outputId": "f4742e77-1a1c-46a9-8464-196e64da979b",
        "colab": {
          "base_uri": "https://localhost:8080/",
          "height": 87
        }
      },
      "source": [
        "count=0\n",
        "dir='/content/gdrive/My Drive/mask_data'\n",
        "for items in os.listdir(dir):               #getting the total number of files in the training directory\n",
        "  for item in os.listdir(os.path.join(dir,items)):\n",
        "     count=count+1\n",
        "  print(\"There are \",count,\" files in training\",items)\n",
        "  count=0\n",
        "\n",
        "dir='/content/gdrive/My Drive/mask_testdata'\n",
        "for items in os.listdir(dir):               #getting the total number of files in the test directory\n",
        "  for item in os.listdir(os.path.join(dir,items)):\n",
        "     count=count+1\n",
        "  print(\"There are \",count,\" files in validation\",items)\n",
        "  count=0\n"
      ],
      "execution_count": 14,
      "outputs": [
        {
          "output_type": "stream",
          "text": [
            "There are  669  files in training without_mask\n",
            "There are  678  files in training with_mask\n",
            "There are  117  files in validation with_mask\n",
            "There are  109  files in validation without_mask\n"
          ],
          "name": "stdout"
        }
      ]
    },
    {
      "cell_type": "code",
      "metadata": {
        "id": "8mCGcE7ELzqL",
        "colab_type": "code",
        "outputId": "86d12052-4434-4114-c98b-83dec1a3a0e5",
        "colab": {
          "base_uri": "https://localhost:8080/",
          "height": 34
        }
      },
      "source": [
        "categories=os.listdir(dir)\n",
        "label_pics=[i for i in range(len(categories))]  #creating a label dictionary for future references\n",
        "label=dict(zip(label_pics,categories))\n",
        "label"
      ],
      "execution_count": 3,
      "outputs": [
        {
          "output_type": "execute_result",
          "data": {
            "text/plain": [
              "{0: 'without_mask', 1: 'with_mask'}"
            ]
          },
          "metadata": {
            "tags": []
          },
          "execution_count": 3
        }
      ]
    },
    {
      "cell_type": "code",
      "metadata": {
        "id": "opjCNMojL4N9",
        "colab_type": "code",
        "outputId": "b5fb2dc6-3b72-4f6c-fede-0d8a79974de7",
        "colab": {
          "base_uri": "https://localhost:8080/",
          "height": 52
        }
      },
      "source": [
        "from tensorflow.keras.preprocessing.image import ImageDataGenerator\n",
        "train_data='/content/gdrive/My Drive/mask_data'\n",
        "test_data='/content/gdrive/My Drive/mask_testdata'\n",
        "train_datagen=ImageDataGenerator(rescale=1.0/255,      #getting and augmenting our training data for better accuracy\n",
        "                                  rotation_range=40,\n",
        "                                  width_shift_range=0.2,\n",
        "                                  height_shift_range=0.2,\n",
        "                                  shear_range=0.2,\n",
        "                                  zoom_range=0.2,\n",
        "                                  horizontal_flip=True,\n",
        "                                  fill_mode='nearest')                                  \n",
        "\n",
        "test_datagen=ImageDataGenerator(rescale=1.0/255)\n",
        "\n",
        "train_generator=train_datagen.flow_from_directory(train_data,    \n",
        "                                                  batch_size=20,\n",
        "                                                  class_mode='categorical',\n",
        "                                                  target_size=(150,150))\n",
        "test_generator=test_datagen.flow_from_directory(test_data,           #getting our testing data along with folder and subfolder names\n",
        "                                                batch_size=20,\n",
        "                                                class_mode='categorical',\n",
        "                                                target_size=(150,150))"
      ],
      "execution_count": 4,
      "outputs": [
        {
          "output_type": "stream",
          "text": [
            "Found 1347 images belonging to 2 classes.\n",
            "Found 226 images belonging to 2 classes.\n"
          ],
          "name": "stdout"
        }
      ]
    },
    {
      "cell_type": "code",
      "metadata": {
        "id": "om6cw_kOL9gG",
        "colab_type": "code",
        "outputId": "7f3e28a4-e231-47d4-d482-5c5bd881ac2d",
        "colab": {
          "base_uri": "https://localhost:8080/",
          "height": 34
        }
      },
      "source": [
        "import tensorflow as tf\n",
        "from tensorflow import keras\n",
        "from keras.models import Sequential\n",
        "from keras.layers import Dense,Activation,Flatten,Dropout\n",
        "from keras.layers import Conv2D,MaxPooling2D\n",
        "from keras.callbacks import ModelCheckpoint"
      ],
      "execution_count": 5,
      "outputs": [
        {
          "output_type": "stream",
          "text": [
            "Using TensorFlow backend.\n"
          ],
          "name": "stderr"
        }
      ]
    },
    {
      "cell_type": "markdown",
      "metadata": {
        "id": "vC1LkiqYavKM",
        "colab_type": "text"
      },
      "source": [
        "**MAKING OUR CONVOLUTIONAL NEURAL NETWORK**"
      ]
    },
    {
      "cell_type": "code",
      "metadata": {
        "id": "XZUjHwpjMAvl",
        "colab_type": "code",
        "colab": {}
      },
      "source": [
        "model=Sequential([\n",
        "        Conv2D(16,(3,3),activation='relu',input_shape=(150,150,3)),  #Conv Layer 1\n",
        "        MaxPooling2D(2,2),                                           #MaxPooling layer 1\n",
        "\n",
        "        Conv2D(32,(3,3),activation='relu'),                          #Conv Layer 2         \n",
        "        MaxPooling2D(2,2),                                           #MaxPooling Layer 2\n",
        "\n",
        "        Conv2D(64,(3,3),activation='relu'),                          #Conv Layer 3\n",
        "        MaxPooling2D(2,2),                                           #MaxPooling layer 3\n",
        "\n",
        "        Conv2D(128,(3,3),activation='relu'),                         #Conv layer 4\n",
        "        MaxPooling2D(2,2),                                           #MaxPooling layer 4  \n",
        "\n",
        "        Flatten(),                                                   #First fully Connected Layer      \n",
        "        Dropout(0.3),                                                #30% Dropout\n",
        "        \n",
        "        Dense(128,activation='relu'),                                #Second fully Connected Layer \n",
        "        Dense(2,activation='softmax')                                #2 Feature-Output layer      \n",
        "])"
      ],
      "execution_count": 0,
      "outputs": []
    },
    {
      "cell_type": "code",
      "metadata": {
        "id": "JEAiW7vAO6Dc",
        "colab_type": "code",
        "colab": {}
      },
      "source": [
        "#from tensorflow.keras.optimizers import RMSprop                      #used for tuning purposes only\n",
        "model.compile(optimizer='adam',                                       #compiling model with these Hyperparameters\n",
        "              loss='categorical_crossentropy',\n",
        "              metrics=['accuracy'])\n"
      ],
      "execution_count": 0,
      "outputs": []
    },
    {
      "cell_type": "code",
      "metadata": {
        "id": "MmuQ3TMPMChW",
        "colab_type": "code",
        "outputId": "2c51d07b-8daf-4853-c1cb-686e1af78762",
        "colab": {
          "base_uri": "https://localhost:8080/",
          "height": 580
        }
      },
      "source": [
        "model.summary()                                                 #Summary of the CNN Model we created"
      ],
      "execution_count": 8,
      "outputs": [
        {
          "output_type": "stream",
          "text": [
            "Model: \"sequential_1\"\n",
            "_________________________________________________________________\n",
            "Layer (type)                 Output Shape              Param #   \n",
            "=================================================================\n",
            "conv2d_1 (Conv2D)            (None, 148, 148, 16)      448       \n",
            "_________________________________________________________________\n",
            "max_pooling2d_1 (MaxPooling2 (None, 74, 74, 16)        0         \n",
            "_________________________________________________________________\n",
            "conv2d_2 (Conv2D)            (None, 72, 72, 32)        4640      \n",
            "_________________________________________________________________\n",
            "max_pooling2d_2 (MaxPooling2 (None, 36, 36, 32)        0         \n",
            "_________________________________________________________________\n",
            "conv2d_3 (Conv2D)            (None, 34, 34, 64)        18496     \n",
            "_________________________________________________________________\n",
            "max_pooling2d_3 (MaxPooling2 (None, 17, 17, 64)        0         \n",
            "_________________________________________________________________\n",
            "conv2d_4 (Conv2D)            (None, 15, 15, 128)       73856     \n",
            "_________________________________________________________________\n",
            "max_pooling2d_4 (MaxPooling2 (None, 7, 7, 128)         0         \n",
            "_________________________________________________________________\n",
            "flatten_1 (Flatten)          (None, 6272)              0         \n",
            "_________________________________________________________________\n",
            "dropout_1 (Dropout)          (None, 6272)              0         \n",
            "_________________________________________________________________\n",
            "dense_1 (Dense)              (None, 128)               802944    \n",
            "_________________________________________________________________\n",
            "dense_2 (Dense)              (None, 2)                 258       \n",
            "=================================================================\n",
            "Total params: 900,642\n",
            "Trainable params: 900,642\n",
            "Non-trainable params: 0\n",
            "_________________________________________________________________\n"
          ],
          "name": "stdout"
        }
      ]
    },
    {
      "cell_type": "markdown",
      "metadata": {
        "id": "UfpTPQRhf02L",
        "colab_type": "text"
      },
      "source": [
        "**TRAINING OUR MODEL ON 30 EPOCHS**"
      ]
    },
    {
      "cell_type": "code",
      "metadata": {
        "id": "V5RNk3UnME4Y",
        "colab_type": "code",
        "outputId": "cd47357c-6ccb-4507-c8e1-ce142cee1888",
        "colab": {
          "base_uri": "https://localhost:8080/",
          "height": 1000
        }
      },
      "source": [
        "history=model.fit(train_generator,validation_data=train_generator,  #Training starts\n",
        "                  epochs=30,\n",
        "                  validation_steps=50,\n",
        "                  verbose=1\n",
        "                  )"
      ],
      "execution_count": 18,
      "outputs": [
        {
          "output_type": "stream",
          "text": [
            "Epoch 1/30\n",
            "68/68 [==============================] - 30s 444ms/step - loss: 0.0658 - accuracy: 0.9785 - val_loss: 0.0549 - val_accuracy: 0.9790\n",
            "Epoch 2/30\n",
            "68/68 [==============================] - 29s 429ms/step - loss: 0.0898 - accuracy: 0.9651 - val_loss: 0.2084 - val_accuracy: 0.9190\n",
            "Epoch 3/30\n",
            "68/68 [==============================] - 30s 439ms/step - loss: 0.0942 - accuracy: 0.9710 - val_loss: 0.0541 - val_accuracy: 0.9840\n",
            "Epoch 4/30\n",
            "68/68 [==============================] - 30s 435ms/step - loss: 0.0760 - accuracy: 0.9740 - val_loss: 0.0834 - val_accuracy: 0.9690\n",
            "Epoch 5/30\n",
            "68/68 [==============================] - 31s 453ms/step - loss: 0.0643 - accuracy: 0.9673 - val_loss: 0.0565 - val_accuracy: 0.9770\n",
            "Epoch 6/30\n",
            "68/68 [==============================] - 30s 437ms/step - loss: 0.0424 - accuracy: 0.9852 - val_loss: 0.0504 - val_accuracy: 0.9820\n",
            "Epoch 7/30\n",
            "68/68 [==============================] - 30s 435ms/step - loss: 0.0673 - accuracy: 0.9755 - val_loss: 0.0409 - val_accuracy: 0.9870\n",
            "Epoch 8/30\n",
            "68/68 [==============================] - 29s 420ms/step - loss: 0.0769 - accuracy: 0.9725 - val_loss: 0.0880 - val_accuracy: 0.9650\n",
            "Epoch 9/30\n",
            "68/68 [==============================] - 29s 431ms/step - loss: 0.0829 - accuracy: 0.9681 - val_loss: 0.1182 - val_accuracy: 0.9500\n",
            "Epoch 10/30\n",
            "68/68 [==============================] - 29s 427ms/step - loss: 0.0759 - accuracy: 0.9710 - val_loss: 0.0447 - val_accuracy: 0.9820\n",
            "Epoch 11/30\n",
            "68/68 [==============================] - 29s 427ms/step - loss: 0.0715 - accuracy: 0.9762 - val_loss: 0.0560 - val_accuracy: 0.9830\n",
            "Epoch 12/30\n",
            "68/68 [==============================] - 30s 436ms/step - loss: 0.0398 - accuracy: 0.9866 - val_loss: 0.0299 - val_accuracy: 0.9910\n",
            "Epoch 13/30\n",
            "68/68 [==============================] - 29s 428ms/step - loss: 0.0570 - accuracy: 0.9762 - val_loss: 0.0543 - val_accuracy: 0.9810\n",
            "Epoch 14/30\n",
            "68/68 [==============================] - 31s 450ms/step - loss: 0.0936 - accuracy: 0.9607 - val_loss: 0.0513 - val_accuracy: 0.9790\n",
            "Epoch 15/30\n",
            "68/68 [==============================] - 29s 430ms/step - loss: 0.0485 - accuracy: 0.9852 - val_loss: 0.0159 - val_accuracy: 0.9950\n",
            "Epoch 16/30\n",
            "68/68 [==============================] - 29s 428ms/step - loss: 0.0634 - accuracy: 0.9800 - val_loss: 0.0449 - val_accuracy: 0.9790\n",
            "Epoch 17/30\n",
            "68/68 [==============================] - 29s 432ms/step - loss: 0.0450 - accuracy: 0.9852 - val_loss: 0.0499 - val_accuracy: 0.9800\n",
            "Epoch 18/30\n",
            "68/68 [==============================] - 29s 427ms/step - loss: 0.0507 - accuracy: 0.9762 - val_loss: 0.0419 - val_accuracy: 0.9840\n",
            "Epoch 19/30\n",
            "68/68 [==============================] - 30s 440ms/step - loss: 0.0261 - accuracy: 0.9926 - val_loss: 0.0382 - val_accuracy: 0.9850\n",
            "Epoch 20/30\n",
            "68/68 [==============================] - 30s 442ms/step - loss: 0.0420 - accuracy: 0.9844 - val_loss: 0.0252 - val_accuracy: 0.9930\n",
            "Epoch 21/30\n",
            "68/68 [==============================] - 30s 443ms/step - loss: 0.0342 - accuracy: 0.9874 - val_loss: 0.0674 - val_accuracy: 0.9750\n",
            "Epoch 22/30\n",
            "68/68 [==============================] - 29s 424ms/step - loss: 0.0345 - accuracy: 0.9896 - val_loss: 0.0224 - val_accuracy: 0.9930\n",
            "Epoch 23/30\n",
            "68/68 [==============================] - 29s 423ms/step - loss: 0.0622 - accuracy: 0.9748 - val_loss: 0.0710 - val_accuracy: 0.9760\n",
            "Epoch 24/30\n",
            "68/68 [==============================] - 30s 445ms/step - loss: 0.0569 - accuracy: 0.9814 - val_loss: 0.0601 - val_accuracy: 0.9740\n",
            "Epoch 25/30\n",
            "68/68 [==============================] - 29s 425ms/step - loss: 0.0637 - accuracy: 0.9777 - val_loss: 0.0274 - val_accuracy: 0.9870\n",
            "Epoch 26/30\n",
            "68/68 [==============================] - 30s 436ms/step - loss: 0.0369 - accuracy: 0.9852 - val_loss: 0.0538 - val_accuracy: 0.9800\n",
            "Epoch 27/30\n",
            "68/68 [==============================] - 30s 437ms/step - loss: 0.0307 - accuracy: 0.9852 - val_loss: 0.0255 - val_accuracy: 0.9890\n",
            "Epoch 28/30\n",
            "68/68 [==============================] - 30s 439ms/step - loss: 0.0367 - accuracy: 0.9881 - val_loss: 0.0700 - val_accuracy: 0.9750\n",
            "Epoch 29/30\n",
            "68/68 [==============================] - 30s 447ms/step - loss: 0.0483 - accuracy: 0.9800 - val_loss: 0.0278 - val_accuracy: 0.9880\n",
            "Epoch 30/30\n",
            "68/68 [==============================] - 30s 447ms/step - loss: 0.0283 - accuracy: 0.9926 - val_loss: 0.0306 - val_accuracy: 0.9920\n"
          ],
          "name": "stdout"
        }
      ]
    },
    {
      "cell_type": "code",
      "metadata": {
        "id": "oICXF_oaOubp",
        "colab_type": "code",
        "colab": {}
      },
      "source": [
        "model.save('/content/gdrive/My Drive/mask_trained.h5')          #saving our model\n"
      ],
      "execution_count": 0,
      "outputs": []
    },
    {
      "cell_type": "markdown",
      "metadata": {
        "id": "JP6wW8CQf_20",
        "colab_type": "text"
      },
      "source": [
        "**EVALUATING THE PERFORMNACE**"
      ]
    },
    {
      "cell_type": "code",
      "metadata": {
        "id": "1nG4_MHjtMMN",
        "colab_type": "code",
        "outputId": "ec7f23db-2b14-4d59-f9af-12d2b38a3527",
        "colab": {
          "base_uri": "https://localhost:8080/",
          "height": 367
        }
      },
      "source": [
        "model=tf.keras.models.load_model('/content/drive/My Drive/mask_trained.h5')\n",
        "eval=model.evaluate(train_generator)                            #evaluating our model based on the test data\n",
        "print(\"Loss is : \",eval[0])\n",
        "print(\"Accuracy is : \",eval[1])"
      ],
      "execution_count": 22,
      "outputs": [
        {
          "output_type": "error",
          "ename": "OSError",
          "evalue": "ignored",
          "traceback": [
            "\u001b[0;31m---------------------------------------------------------------------------\u001b[0m",
            "\u001b[0;31mOSError\u001b[0m                                   Traceback (most recent call last)",
            "\u001b[0;32m<ipython-input-22-02878189b462>\u001b[0m in \u001b[0;36m<module>\u001b[0;34m()\u001b[0m\n\u001b[0;32m----> 1\u001b[0;31m \u001b[0mmodel\u001b[0m\u001b[0;34m=\u001b[0m\u001b[0mtf\u001b[0m\u001b[0;34m.\u001b[0m\u001b[0mkeras\u001b[0m\u001b[0;34m.\u001b[0m\u001b[0mmodels\u001b[0m\u001b[0;34m.\u001b[0m\u001b[0mload_model\u001b[0m\u001b[0;34m(\u001b[0m\u001b[0;34m'/content/drive/My Drive/mask_trained.h5'\u001b[0m\u001b[0;34m)\u001b[0m\u001b[0;34m\u001b[0m\u001b[0;34m\u001b[0m\u001b[0m\n\u001b[0m\u001b[1;32m      2\u001b[0m \u001b[0meval\u001b[0m\u001b[0;34m=\u001b[0m\u001b[0mmodel\u001b[0m\u001b[0;34m.\u001b[0m\u001b[0mevaluate\u001b[0m\u001b[0;34m(\u001b[0m\u001b[0mtrain_generator\u001b[0m\u001b[0;34m)\u001b[0m                            \u001b[0;31m#evaluating our model based on the test data\u001b[0m\u001b[0;34m\u001b[0m\u001b[0;34m\u001b[0m\u001b[0m\n\u001b[1;32m      3\u001b[0m \u001b[0mprint\u001b[0m\u001b[0;34m(\u001b[0m\u001b[0;34m\"Loss is : \"\u001b[0m\u001b[0;34m,\u001b[0m\u001b[0meval\u001b[0m\u001b[0;34m[\u001b[0m\u001b[0;36m0\u001b[0m\u001b[0;34m]\u001b[0m\u001b[0;34m)\u001b[0m\u001b[0;34m\u001b[0m\u001b[0;34m\u001b[0m\u001b[0m\n\u001b[1;32m      4\u001b[0m \u001b[0mprint\u001b[0m\u001b[0;34m(\u001b[0m\u001b[0;34m\"Accuracy is : \"\u001b[0m\u001b[0;34m,\u001b[0m\u001b[0meval\u001b[0m\u001b[0;34m[\u001b[0m\u001b[0;36m1\u001b[0m\u001b[0;34m]\u001b[0m\u001b[0;34m)\u001b[0m\u001b[0;34m\u001b[0m\u001b[0;34m\u001b[0m\u001b[0m\n",
            "\u001b[0;32m/usr/local/lib/python3.6/dist-packages/tensorflow/python/keras/saving/save.py\u001b[0m in \u001b[0;36mload_model\u001b[0;34m(filepath, custom_objects, compile)\u001b[0m\n\u001b[1;32m    187\u001b[0m       \u001b[0mfilepath\u001b[0m \u001b[0;34m=\u001b[0m \u001b[0mstr\u001b[0m\u001b[0;34m(\u001b[0m\u001b[0mfilepath\u001b[0m\u001b[0;34m)\u001b[0m\u001b[0;34m\u001b[0m\u001b[0;34m\u001b[0m\u001b[0m\n\u001b[1;32m    188\u001b[0m     \u001b[0;32mif\u001b[0m \u001b[0misinstance\u001b[0m\u001b[0;34m(\u001b[0m\u001b[0mfilepath\u001b[0m\u001b[0;34m,\u001b[0m \u001b[0msix\u001b[0m\u001b[0;34m.\u001b[0m\u001b[0mstring_types\u001b[0m\u001b[0;34m)\u001b[0m\u001b[0;34m:\u001b[0m\u001b[0;34m\u001b[0m\u001b[0;34m\u001b[0m\u001b[0m\n\u001b[0;32m--> 189\u001b[0;31m       \u001b[0mloader_impl\u001b[0m\u001b[0;34m.\u001b[0m\u001b[0mparse_saved_model\u001b[0m\u001b[0;34m(\u001b[0m\u001b[0mfilepath\u001b[0m\u001b[0;34m)\u001b[0m\u001b[0;34m\u001b[0m\u001b[0;34m\u001b[0m\u001b[0m\n\u001b[0m\u001b[1;32m    190\u001b[0m       \u001b[0;32mreturn\u001b[0m \u001b[0msaved_model_load\u001b[0m\u001b[0;34m.\u001b[0m\u001b[0mload\u001b[0m\u001b[0;34m(\u001b[0m\u001b[0mfilepath\u001b[0m\u001b[0;34m,\u001b[0m \u001b[0mcompile\u001b[0m\u001b[0;34m)\u001b[0m\u001b[0;34m\u001b[0m\u001b[0;34m\u001b[0m\u001b[0m\n\u001b[1;32m    191\u001b[0m \u001b[0;34m\u001b[0m\u001b[0m\n",
            "\u001b[0;32m/usr/local/lib/python3.6/dist-packages/tensorflow/python/saved_model/loader_impl.py\u001b[0m in \u001b[0;36mparse_saved_model\u001b[0;34m(export_dir)\u001b[0m\n\u001b[1;32m    111\u001b[0m                   (export_dir,\n\u001b[1;32m    112\u001b[0m                    \u001b[0mconstants\u001b[0m\u001b[0;34m.\u001b[0m\u001b[0mSAVED_MODEL_FILENAME_PBTXT\u001b[0m\u001b[0;34m,\u001b[0m\u001b[0;34m\u001b[0m\u001b[0;34m\u001b[0m\u001b[0m\n\u001b[0;32m--> 113\u001b[0;31m                    constants.SAVED_MODEL_FILENAME_PB))\n\u001b[0m\u001b[1;32m    114\u001b[0m \u001b[0;34m\u001b[0m\u001b[0m\n\u001b[1;32m    115\u001b[0m \u001b[0;34m\u001b[0m\u001b[0m\n",
            "\u001b[0;31mOSError\u001b[0m: SavedModel file does not exist at: /content/drive/My Drive/mask_trained.h5/{saved_model.pbtxt|saved_model.pb}"
          ]
        }
      ]
    },
    {
      "cell_type": "markdown",
      "metadata": {
        "id": "LNXqAck-gEn7",
        "colab_type": "text"
      },
      "source": [
        "**TESTING ON IMAGES**"
      ]
    },
    {
      "cell_type": "code",
      "metadata": {
        "id": "WBdFlxBvTmxC",
        "colab_type": "code",
        "outputId": "6dabacee-0ad0-4207-af5b-fa0b10320008",
        "colab": {
          "base_uri": "https://localhost:8080/",
          "height": 34
        }
      },
      "source": [
        "import numpy as np                                           \n",
        "face_img=cv2.imread('/content/gdrive/My Drive/Zuckerberg.jfif')  #testing on random images \n",
        "resized=cv2.resize(face_img,(150,150))                           #resizing as per our input size\n",
        "normalized=resized/255.0\n",
        "reshaped=np.reshape(normalized,(1,150,150,3))                    #reshaping the image\n",
        "result=model.predict(reshaped)                                   #gives us 2 probabilities that sum to 1\n",
        "labelled=np.argmax(result,axis=1)[0]                             #getting the max of the two probabilities\n",
        "print(label[labelled])                                           #printing out from the the label dictionary"
      ],
      "execution_count": 12,
      "outputs": [
        {
          "output_type": "stream",
          "text": [
            "without_mask\n"
          ],
          "name": "stdout"
        }
      ]
    },
    {
      "cell_type": "code",
      "metadata": {
        "id": "vYuebQYisvBz",
        "colab_type": "code",
        "colab": {}
      },
      "source": [
        ""
      ],
      "execution_count": 0,
      "outputs": []
    }
  ]
}